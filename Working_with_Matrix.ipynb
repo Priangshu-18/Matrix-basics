{
  "nbformat": 4,
  "nbformat_minor": 0,
  "metadata": {
    "colab": {
      "provenance": [],
      "authorship_tag": "ABX9TyMXb0WpGqAfYp/zK69TI0OA",
      "include_colab_link": true
    },
    "kernelspec": {
      "name": "python3",
      "display_name": "Python 3"
    },
    "language_info": {
      "name": "python"
    }
  },
  "cells": [
    {
      "cell_type": "markdown",
      "metadata": {
        "id": "view-in-github",
        "colab_type": "text"
      },
      "source": [
        "<a href=\"https://colab.research.google.com/github/Priangshu-18/Matrix-basics/blob/main/Working_with_Matrix.ipynb\" target=\"_parent\"><img src=\"https://colab.research.google.com/assets/colab-badge.svg\" alt=\"Open In Colab\"/></a>"
      ]
    },
    {
      "cell_type": "code",
      "execution_count": 2,
      "metadata": {
        "id": "Xq3JSCJMo6VD"
      },
      "outputs": [],
      "source": [
        "import numpy as np"
      ]
    },
    {
      "cell_type": "code",
      "source": [
        "matrix_1 = np.array([[2,3],[6,7]])"
      ],
      "metadata": {
        "id": "3O_9YlhlpCo7"
      },
      "execution_count": null,
      "outputs": []
    },
    {
      "cell_type": "code",
      "source": [
        "print(matrix_1)"
      ],
      "metadata": {
        "colab": {
          "base_uri": "https://localhost:8080/"
        },
        "id": "HnQ1O_fvpIoD",
        "outputId": "531d958e-13fc-4405-a02c-6a7af70fc242"
      },
      "execution_count": null,
      "outputs": [
        {
          "output_type": "stream",
          "name": "stdout",
          "text": [
            "[[2 3]\n",
            " [6 7]]\n"
          ]
        }
      ]
    },
    {
      "cell_type": "code",
      "source": [
        "matrix_2 = np.array([[2,3],[6,7],[8,6]])\n",
        "print(matrix_2)"
      ],
      "metadata": {
        "id": "0HL1OPejpO-N",
        "colab": {
          "base_uri": "https://localhost:8080/"
        },
        "outputId": "8583de7a-6af2-4e5e-a1dc-bd764d76dee4"
      },
      "execution_count": null,
      "outputs": [
        {
          "output_type": "stream",
          "name": "stdout",
          "text": [
            "[[2 3]\n",
            " [6 7]\n",
            " [8 6]]\n"
          ]
        }
      ]
    },
    {
      "cell_type": "code",
      "source": [
        "# Random Matrix\n",
        "random_matrix = np.random.rand(3,3)\n",
        "print(random_matrix)"
      ],
      "metadata": {
        "colab": {
          "base_uri": "https://localhost:8080/"
        },
        "id": "no5cFHHYxfTF",
        "outputId": "81d4cd5b-ee85-49b8-e8e7-3493c0d1641e"
      },
      "execution_count": null,
      "outputs": [
        {
          "output_type": "stream",
          "name": "stdout",
          "text": [
            "[[0.69786772 0.7782934  0.6766709 ]\n",
            " [0.24738588 0.2240557  0.55872986]\n",
            " [0.70705468 0.92210165 0.839918  ]]\n"
          ]
        }
      ]
    },
    {
      "cell_type": "code",
      "source": [
        "random_integer_matrix = np.random.randint(100, size=(4,5))\n",
        "print(random_integer_matrix)"
      ],
      "metadata": {
        "colab": {
          "base_uri": "https://localhost:8080/"
        },
        "id": "nVhFWau0x2Ye",
        "outputId": "f330712d-7e9b-4a43-a7a4-545b30a747d7"
      },
      "execution_count": null,
      "outputs": [
        {
          "output_type": "stream",
          "name": "stdout",
          "text": [
            "[[71  8 41  3 59]\n",
            " [54 70 96 60 50]\n",
            " [93 33 23 78 60]\n",
            " [49 36 86 68 47]]\n"
          ]
        }
      ]
    },
    {
      "cell_type": "code",
      "source": [
        "# Matrix with all values as 1\n",
        "ones_matrix = np.ones((5,5), dtype=int)\n",
        "print(ones_matrix)"
      ],
      "metadata": {
        "colab": {
          "base_uri": "https://localhost:8080/"
        },
        "id": "LULMQ_VRyDh7",
        "outputId": "31625a44-60c7-4af3-c370-628d0944bda8"
      },
      "execution_count": 3,
      "outputs": [
        {
          "output_type": "stream",
          "name": "stdout",
          "text": [
            "[[1 1 1 1 1]\n",
            " [1 1 1 1 1]\n",
            " [1 1 1 1 1]\n",
            " [1 1 1 1 1]\n",
            " [1 1 1 1 1]]\n"
          ]
        }
      ]
    },
    {
      "cell_type": "code",
      "source": [
        "# Matrix with all values as 0 (null matrix or zero matrix)\n",
        "ones_matrix = np.zeros((3,3), dtype=int)\n",
        "print(ones_matrix)"
      ],
      "metadata": {
        "id": "zk5R2mpDyb7h",
        "colab": {
          "base_uri": "https://localhost:8080/"
        },
        "outputId": "4621973e-8678-4554-97c7-b77838524cde"
      },
      "execution_count": 5,
      "outputs": [
        {
          "output_type": "stream",
          "name": "stdout",
          "text": [
            "[[0 0 0]\n",
            " [0 0 0]\n",
            " [0 0 0]]\n"
          ]
        }
      ]
    },
    {
      "cell_type": "code",
      "source": [
        "# Identity matrix\n",
        "ones_matrix = np.eye(3,3)\n",
        "print(ones_matrix)"
      ],
      "metadata": {
        "colab": {
          "base_uri": "https://localhost:8080/"
        },
        "id": "v4iyzlO04ogY",
        "outputId": "76a550b2-254d-4c19-f0e0-e9005e6869dd"
      },
      "execution_count": 8,
      "outputs": [
        {
          "output_type": "stream",
          "name": "stdout",
          "text": [
            "[[1. 0. 0.]\n",
            " [0. 1. 0.]\n",
            " [0. 0. 1.]]\n"
          ]
        }
      ]
    },
    {
      "cell_type": "markdown",
      "source": [
        "Transpose of a matrix"
      ],
      "metadata": {
        "id": "zcBI_lfJ44Ec"
      }
    },
    {
      "cell_type": "code",
      "source": [
        "a = np.random.randint(10, size=(3,3))\n",
        "print(a)"
      ],
      "metadata": {
        "colab": {
          "base_uri": "https://localhost:8080/"
        },
        "id": "kJAEA68h4wSR",
        "outputId": "c1977569-f057-41b9-ee09-61348c80f2cb"
      },
      "execution_count": 11,
      "outputs": [
        {
          "output_type": "stream",
          "name": "stdout",
          "text": [
            "[[7 5 4]\n",
            " [9 3 4]\n",
            " [1 8 7]]\n"
          ]
        }
      ]
    },
    {
      "cell_type": "code",
      "source": [
        "transpose_of_a = np.transpose(a)"
      ],
      "metadata": {
        "id": "C-2HYTdL5BkI"
      },
      "execution_count": 12,
      "outputs": []
    },
    {
      "cell_type": "code",
      "source": [
        "print(transpose_of_a)"
      ],
      "metadata": {
        "colab": {
          "base_uri": "https://localhost:8080/"
        },
        "id": "og5OKvrU5Ker",
        "outputId": "6018e1ef-825c-4393-c1eb-e815fdb3bf07"
      },
      "execution_count": 13,
      "outputs": [
        {
          "output_type": "stream",
          "name": "stdout",
          "text": [
            "[[7 9 1]\n",
            " [5 3 8]\n",
            " [4 4 7]]\n"
          ]
        }
      ]
    },
    {
      "cell_type": "markdown",
      "source": [
        "# Matrix Addition"
      ],
      "metadata": {
        "id": "Nmxna9mT6fa3"
      }
    },
    {
      "cell_type": "code",
      "source": [
        "matrix_1 = np.array([[2,3],[6,7]])\n",
        "matrix_2 = np.array([[2,4],[9,3]])"
      ],
      "metadata": {
        "id": "MYeIIB__5MQS"
      },
      "execution_count": 19,
      "outputs": []
    },
    {
      "cell_type": "code",
      "source": [
        "print(matrix_1)"
      ],
      "metadata": {
        "colab": {
          "base_uri": "https://localhost:8080/"
        },
        "id": "UIS4KAnG7D-8",
        "outputId": "cff1c943-8aac-45f8-9a5d-c38b33f12cc5"
      },
      "execution_count": 17,
      "outputs": [
        {
          "output_type": "stream",
          "name": "stdout",
          "text": [
            "[[2 3]\n",
            " [6 7]]\n"
          ]
        }
      ]
    },
    {
      "cell_type": "code",
      "source": [
        "print(matrix_2)"
      ],
      "metadata": {
        "colab": {
          "base_uri": "https://localhost:8080/"
        },
        "id": "EZK1P3TM7HrT",
        "outputId": "19b6aa16-b49a-48c5-efba-6d8c19d54ec9"
      },
      "execution_count": 18,
      "outputs": [
        {
          "output_type": "stream",
          "name": "stdout",
          "text": [
            "[[2 4]\n",
            " [9 3]]\n"
          ]
        }
      ]
    },
    {
      "cell_type": "code",
      "source": [
        "sum = matrix_1 + matrix_2\n",
        "print(sum)"
      ],
      "metadata": {
        "colab": {
          "base_uri": "https://localhost:8080/"
        },
        "id": "0XAjK1Wh6u1G",
        "outputId": "dc68af9e-dcb3-4cbf-c07f-c923626e3ef7"
      },
      "execution_count": 15,
      "outputs": [
        {
          "output_type": "stream",
          "name": "stdout",
          "text": [
            "[[ 4  7]\n",
            " [15 10]]\n"
          ]
        }
      ]
    },
    {
      "cell_type": "code",
      "source": [
        "sum = np.add(matrix_1, matrix_2)\n",
        "print(sum)"
      ],
      "metadata": {
        "colab": {
          "base_uri": "https://localhost:8080/"
        },
        "id": "EWyGgoap68Cy",
        "outputId": "6e35db61-4b66-4f49-f9c9-12f76f55603d"
      },
      "execution_count": 21,
      "outputs": [
        {
          "output_type": "stream",
          "name": "stdout",
          "text": [
            "[[ 4  7]\n",
            " [15 10]]\n"
          ]
        }
      ]
    },
    {
      "cell_type": "code",
      "source": [],
      "metadata": {
        "id": "kq7-juA37Xq0"
      },
      "execution_count": null,
      "outputs": []
    }
  ]
}